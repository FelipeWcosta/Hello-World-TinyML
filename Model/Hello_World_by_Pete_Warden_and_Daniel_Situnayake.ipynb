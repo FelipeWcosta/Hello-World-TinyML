{
  "cells": [
    {
      "attachments": {},
      "cell_type": "markdown",
      "metadata": {},
      "source": [
        "Import Dependences"
      ]
    },
    {
      "cell_type": "code",
      "execution_count": null,
      "metadata": {
        "id": "WIYYJaGSkM9i"
      },
      "outputs": [],
      "source": [
        "import tensorflow as tf\n",
        "import numpy as np\n",
        "import matplotlib.pyplot as plt\n",
        "import math"
      ]
    },
    {
      "cell_type": "markdown",
      "metadata": {
        "id": "E4qtuR-tpVU2"
      },
      "source": [
        "Generating Data - Sine Wave "
      ]
    },
    {
      "cell_type": "code",
      "execution_count": null,
      "metadata": {
        "colab": {
          "base_uri": "https://localhost:8080/",
          "height": 265
        },
        "id": "SqmPEGcQpcHl",
        "outputId": "41858fc5-935f-4f13-dc0b-dac1a2af8fca"
      },
      "outputs": [],
      "source": [
        "SAMPLES = 1000\n",
        "SEED = 1337\n",
        "np.random.seed(SEED)\n",
        "tf.random.set_seed(SEED)\n",
        "x_values = np.random.uniform(low=0, high=2*math.pi, size=SAMPLES)\n",
        "np.random.shuffle(x_values)\n",
        "y_values = np.sin(x_values)\n",
        "plt.plot(x_values, y_values, 'b.')\n",
        "plt.show()"
      ]
    },
    {
      "cell_type": "markdown",
      "metadata": {
        "id": "D938NHo7rdd5"
      },
      "source": [
        "Adding Noise to the Database"
      ]
    },
    {
      "cell_type": "code",
      "execution_count": null,
      "metadata": {
        "colab": {
          "base_uri": "https://localhost:8080/",
          "height": 265
        },
        "id": "GMxeXk1grk99",
        "outputId": "859a56fe-d318-486e-fe4d-dce6d251e3f6"
      },
      "outputs": [],
      "source": [
        "y_values += 0.1*np.random.randn(*y_values.shape)\n",
        "plt.plot(x_values, y_values, 'b.')\n",
        "plt.show()"
      ]
    },
    {
      "cell_type": "markdown",
      "metadata": {
        "id": "h6ca90ndsFHN"
      },
      "source": [
        "Splitting the Data"
      ]
    },
    {
      "cell_type": "code",
      "execution_count": null,
      "metadata": {
        "colab": {
          "base_uri": "https://localhost:8080/",
          "height": 265
        },
        "id": "EOBcoWxQsIqU",
        "outputId": "32284bc9-8709-4651-c3a2-8b17671df77d"
      },
      "outputs": [],
      "source": [
        "TRAIN_SPLIT = int(0.6*SAMPLES)\n",
        "TEST_SPLIT = int(0.2*SAMPLES+TRAIN_SPLIT)\n",
        "x_train, x_validate, x_test = np.split(x_values, [TRAIN_SPLIT, TEST_SPLIT])\n",
        "y_train, y_validate, y_test = np.split(y_values, [TRAIN_SPLIT, TEST_SPLIT])\n",
        "assert(x_train.size + x_validate.size + x_test.size) == SAMPLES\n",
        "plt.plot(x_train, y_train, 'b.', label='Train')\n",
        "plt.plot(x_validate, y_validate, 'y.', label='Validate')\n",
        "plt.plot(x_test, y_test, 'r.', label='Test')\n",
        "plt.legend()\n",
        "plt.show()"
      ]
    },
    {
      "cell_type": "markdown",
      "metadata": {
        "id": "pI6lcfoNu16B"
      },
      "source": [
        "Defining a Basic Model"
      ]
    },
    {
      "cell_type": "code",
      "execution_count": null,
      "metadata": {
        "id": "c3y2Kcu6u25M"
      },
      "outputs": [],
      "source": [
        "from keras import layers\n",
        "model_1 = tf.keras.Sequential()\n",
        "model_1.add(layers.Dense(16, activation='relu', input_shape=(1,)))\n",
        "model_1.add(layers.Dense(1))\n",
        "model_1.compile(optimizer='rmsprop', loss='mse', metrics=['mae'])"
      ]
    },
    {
      "cell_type": "code",
      "execution_count": null,
      "metadata": {
        "colab": {
          "base_uri": "https://localhost:8080/"
        },
        "id": "TgX8ZYvowndx",
        "outputId": "46dfd95e-4ed1-4cc7-c5cb-1c93044718bc"
      },
      "outputs": [],
      "source": [
        "model_1.summary()"
      ]
    },
    {
      "cell_type": "markdown",
      "metadata": {
        "id": "aEsGq3iKy0Qw"
      },
      "source": [
        "Training Our Model\n"
      ]
    },
    {
      "cell_type": "code",
      "execution_count": null,
      "metadata": {
        "colab": {
          "base_uri": "https://localhost:8080/"
        },
        "id": "FCfXrhaly3yu",
        "outputId": "63cc6286-da9d-4352-b62f-6d2661a74b79"
      },
      "outputs": [],
      "source": [
        "history_1 = model_1.fit(x_train, y_train, epochs=1000, batch_size=16,\n",
        "                        validation_data=(x_validate, y_validate))"
      ]
    },
    {
      "cell_type": "markdown",
      "metadata": {
        "id": "QABajq7wNWxu"
      },
      "source": [
        "Graphing the History"
      ]
    },
    {
      "cell_type": "code",
      "execution_count": null,
      "metadata": {
        "colab": {
          "base_uri": "https://localhost:8080/",
          "height": 295
        },
        "id": "ucrUVuM_NXnV",
        "outputId": "64fd98e4-1818-467d-9e6f-bcb33e0be614"
      },
      "outputs": [],
      "source": [
        "loss = history_1.history['loss']\n",
        "val_loss = history_1.history['val_loss']\n",
        "epochs = range(1, len(loss)+1)\n",
        "plt.plot(epochs, loss, 'g.', label='Training Loss')\n",
        "plt.plot(epochs, val_loss, 'b', label='Validation Loss')\n",
        "plt.title('Training and Validation Loss')\n",
        "plt.xlabel('Epochs')\n",
        "plt.ylabel('Loss')\n",
        "plt.legend()\n",
        "plt.show()"
      ]
    },
    {
      "cell_type": "code",
      "execution_count": null,
      "metadata": {
        "colab": {
          "base_uri": "https://localhost:8080/",
          "height": 295
        },
        "id": "YP5ytqjSPFfi",
        "outputId": "4cddaf41-4e61-45fd-d76c-fb0834844477"
      },
      "outputs": [],
      "source": [
        "SKIP = 100\n",
        "plt.plot(epochs[SKIP:], loss[SKIP:], 'g.', label='Training loss')\n",
        "plt.plot(epochs[SKIP:], val_loss[SKIP:], 'b.', label='Validation loss')\n",
        "plt.title('Training and validation loss')\n",
        "plt.xlabel('Epochs')\n",
        "plt.ylabel('Loss')\n",
        "plt.legend()\n",
        "plt.show()"
      ]
    },
    {
      "cell_type": "code",
      "execution_count": null,
      "metadata": {
        "colab": {
          "base_uri": "https://localhost:8080/",
          "height": 295
        },
        "id": "rK_Z6qbhPYlN",
        "outputId": "4cecb23c-4f90-4741-84be-7c7423c669a1"
      },
      "outputs": [],
      "source": [
        "mae = history_1.history['mae']\n",
        "val_mae = history_1.history['val_mae']\n",
        "plt.plot(epochs[SKIP:], mae[SKIP:], 'g.', label='Training MAE')\n",
        "plt.plot(epochs[SKIP:], val_mae[SKIP:], 'b.', label='Validation MAE')\n",
        "plt.title('Training and validation mean absolute error')\n",
        "plt.xlabel('Epochs')\n",
        "plt.ylabel('MAE')\n",
        "plt.legend()\n",
        "plt.show()"
      ]
    },
    {
      "cell_type": "code",
      "execution_count": null,
      "metadata": {
        "colab": {
          "base_uri": "https://localhost:8080/",
          "height": 281
        },
        "id": "zgz4xbBmPsIL",
        "outputId": "9e22b0af-3c0a-42dd-f34b-1276b2779c34"
      },
      "outputs": [],
      "source": [
        "predictions = model_1.predict(x_train)\n",
        "plt.clf()\n",
        "plt.title('Training data predicted vs actual values')\n",
        "plt.plot(x_test, y_test, 'b.', label='Actual')\n",
        "plt.plot(x_train, predictions, 'r.', label='Predicted')\n",
        "plt.legend()\n",
        "plt.show()"
      ]
    },
    {
      "cell_type": "markdown",
      "metadata": {
        "id": "erP3XSXxP-hd"
      },
      "source": [
        "Improving Our Model\n"
      ]
    },
    {
      "cell_type": "code",
      "execution_count": null,
      "metadata": {
        "id": "SYaUxv75QC6z"
      },
      "outputs": [],
      "source": [
        "model_2 = tf.keras.Sequential()\n",
        "model_2.add(layers.Dense(16, activation='relu', input_shape=(1,)))\n",
        "model_2.add(layers.Dense(16, activation='relu'))\n",
        "model_2.add(layers.Dense(1))\n",
        "model_2.compile(optimizer='rmsprop', loss='mse', metrics=['mae'])"
      ]
    },
    {
      "cell_type": "code",
      "execution_count": null,
      "metadata": {
        "colab": {
          "base_uri": "https://localhost:8080/"
        },
        "id": "RiAu5td8QTRk",
        "outputId": "04e02082-247f-42b8-d0c1-937346306b27"
      },
      "outputs": [],
      "source": [
        "model_2.summary()"
      ]
    },
    {
      "cell_type": "code",
      "execution_count": null,
      "metadata": {
        "colab": {
          "base_uri": "https://localhost:8080/"
        },
        "id": "JxNwIQllQ3sV",
        "outputId": "6b309272-825f-4a99-b14b-65c09afb1f24"
      },
      "outputs": [],
      "source": [
        "history_2 = model_2.fit(x_train, y_train, epochs=600, batch_size=16,\n",
        " validation_data=(x_validate, y_validate))"
      ]
    },
    {
      "cell_type": "code",
      "execution_count": null,
      "metadata": {
        "colab": {
          "base_uri": "https://localhost:8080/",
          "height": 295
        },
        "id": "uLR6Ux-8RR__",
        "outputId": "f65e8357-2fba-493f-8c12-5406273dba67"
      },
      "outputs": [],
      "source": [
        "loss = history_2.history['loss']\n",
        "val_loss = history_2.history['val_loss']\n",
        "epochs = range(1, len(loss) + 1)\n",
        "plt.plot(epochs, loss, 'g.', label='Training loss')\n",
        "plt.plot(epochs, val_loss, 'b', label='Validation loss')\n",
        "plt.title('Training and validation loss')\n",
        "plt.xlabel('Epochs')\n",
        "plt.ylabel('Loss')\n",
        "plt.legend()\n",
        "plt.show()"
      ]
    },
    {
      "cell_type": "code",
      "execution_count": null,
      "metadata": {
        "colab": {
          "base_uri": "https://localhost:8080/",
          "height": 295
        },
        "id": "WSs8wYX8RahU",
        "outputId": "6c80a129-081a-41fc-c5f7-1a3610ad1bb9"
      },
      "outputs": [],
      "source": [
        "SKIP = 100\n",
        "plt.clf()\n",
        "plt.plot(epochs[SKIP:], loss[SKIP:], 'g.', label='Training loss')\n",
        "plt.plot(epochs[SKIP:], val_loss[SKIP:], 'b.', label='Validation loss')\n",
        "plt.title('Training and validation loss')\n",
        "plt.xlabel('Epochs')\n",
        "plt.ylabel('Loss')\n",
        "plt.legend()\n",
        "plt.show()"
      ]
    },
    {
      "cell_type": "code",
      "execution_count": null,
      "metadata": {
        "colab": {
          "base_uri": "https://localhost:8080/",
          "height": 54
        },
        "id": "tIFTfm9QRrus",
        "outputId": "1d7e0fff-c04c-4900-b2a9-12c4ffe07b53"
      },
      "outputs": [],
      "source": [
        "plt.clf()\n",
        "mae = history_2.history['mae']\n",
        "val_mae = history_2.history['val_mae']\n",
        "plt.plot(epochs[SKIP:], mae[SKIP:], 'g.', label='Training MAE')\n",
        "plt.plot(epochs[SKIP:], val_mae[SKIP:], 'b.', label='Validation MAE')\n",
        "plt.title('Training and validation mean absolute error')\n",
        "plt.xlabel('Epochs')\n",
        "plt.ylabel('MAE')\n",
        "plt.legend()\n",
        "plt.show()"
      ]
    },
    {
      "cell_type": "markdown",
      "metadata": {
        "id": "P1zYBMtGSrW2"
      },
      "source": [
        "Testing"
      ]
    },
    {
      "cell_type": "code",
      "execution_count": null,
      "metadata": {
        "colab": {
          "base_uri": "https://localhost:8080/",
          "height": 299
        },
        "id": "ZPeGjbGTSsI6",
        "outputId": "ab629325-8151-4eba-a2a5-266bea029948"
      },
      "outputs": [],
      "source": [
        "loss = model_2.evaluate(x_test, y_test)\n",
        "predictions = model_2.predict(x_test)\n",
        "plt.clf()\n",
        "plt.title('Comparison of predictions and actual values')\n",
        "plt.plot(x_test, y_test, 'b.', label='Actual')\n",
        "plt.plot(x_test, predictions, 'r.', label='Predicted')\n",
        "plt.legend()\n",
        "plt.show()"
      ]
    },
    {
      "cell_type": "markdown",
      "metadata": {
        "id": "caBG-Pe9URVH"
      },
      "source": [
        "Converting the Model for TensorFlow Lite"
      ]
    },
    {
      "cell_type": "code",
      "execution_count": null,
      "metadata": {
        "colab": {
          "base_uri": "https://localhost:8080/"
        },
        "id": "xrbwOdNUUSBK",
        "outputId": "60ae16de-35a3-4be6-ecb0-2af6feb88c21"
      },
      "outputs": [],
      "source": [
        "converter = tf.lite.TFLiteConverter.from_keras_model(model_2)\n",
        "tflite_model = converter.convert()\n",
        "open(\"sine_model.tflite\", \"wb\").write(tflite_model)\n",
        "converter = tf.lite.TFLiteConverter.from_keras_model(model_2)\n",
        "converter.optimizations = [tf.lite.Optimize.DEFAULT]\n",
        "def representative_dataset_generator():\n",
        " for value in x_test:\n",
        "  yield [np.array(value, dtype=np.float32, ndmin=2)]\n",
        "converter.representative_dataset = representative_dataset_generator\n",
        "tflite_model = converter.convert()\n",
        "open(\"sine_model_quantized.tflite\", \"wb\").write(tflite_model)"
      ]
    },
    {
      "cell_type": "code",
      "execution_count": null,
      "metadata": {
        "colab": {
          "base_uri": "https://localhost:8080/",
          "height": 54
        },
        "id": "8VIA86hfW_DW",
        "outputId": "96d5471a-dd69-4ccb-82d9-e0992a49e923"
      },
      "outputs": [],
      "source": [
        "sine_model = tf.lite.Interpreter('sine_model.tflite')\n",
        "sine_model_quantized = tf.lite.Interpreter('sine_model_quantized.tflite')\n",
        "sine_model.allocate_tensors()\n",
        "sine_model_quantized.allocate_tensors()\n",
        "sine_model_input_index = sine_model.get_input_details()[0][\"index\"]\n",
        "sine_model_output_index = sine_model.get_output_details()[0][\"index\"]\n",
        "sine_model_quantized_input_index = sine_model_quantized.get_input_details()[0][\"index\"]\n",
        "sine_model_quantized_output_index = sine_model_quantized.get_output_details()[0][\"index\"]\n",
        "sine_model_predictions = []\n",
        "sine_model_quantized_predictions = []\n",
        "for x_value in x_test:\n",
        "  x_value_tensor = tf.convert_to_tensor([[x_value]], dtype=np.float32)\n",
        "  sine_model.set_tensor(sine_model_input_index, x_value_tensor)\n",
        "  sine_model.invoke()\n",
        "  sine_model_predictions.append(\n",
        "      sine_model.get_tensor(sine_model_output_index)[0])\n",
        "  sine_model_quantized.set_tensor(sine_model_quantized_input_index, x_value_tensor)\n",
        "  sine_model_quantized.invoke()\n",
        "  sine_model_quantized_predictions.append(\n",
        "      sine_model_quantized.get_tensor(sine_model_quantized_output_index)[0])\n",
        "plt.clf()\n",
        "plt.title('Comparison of various models against actual values')\n",
        "plt.plot(x_test, y_test, 'bo', label='Actual')\n",
        "plt.plot(x_test, predictions, 'ro', label='Original predictions')\n",
        "plt.plot(x_test, sine_model_predictions, 'yx', label='Lite predictions')\n",
        "plt.plot(x_test, sine_model_quantized_predictions, 'gx', label='Lite quantized predictions')\n",
        "plt.legend()\n",
        "plt.show()"
      ]
    },
    {
      "cell_type": "code",
      "execution_count": null,
      "metadata": {
        "colab": {
          "base_uri": "https://localhost:8080/"
        },
        "id": "7FK1BFcoYicA",
        "outputId": "aae2d4f1-b4bc-4e43-8cef-ec9088f64f7b"
      },
      "outputs": [],
      "source": [
        "import os\n",
        "basic_model_size = os.path.getsize(\"sine_model.tflite\")\n",
        "print(\"Basic model is %d bytes\" % basic_model_size)\n",
        "quantized_model_size = os.path.getsize(\"sine_model_quantized.tflite\")\n",
        "print(\"Quantized model is %d bytes\" % quantized_model_size)\n",
        "difference = basic_model_size - quantized_model_size\n",
        "print(\"Difference is %d bytes\" % difference)"
      ]
    },
    {
      "cell_type": "markdown",
      "metadata": {
        "id": "m6OPd4SKDLRh"
      },
      "source": [
        "Convert the Model to .cc File"
      ]
    },
    {
      "cell_type": "code",
      "execution_count": null,
      "metadata": {
        "colab": {
          "base_uri": "https://localhost:8080/"
        },
        "id": "Mc90YSrvCthI",
        "outputId": "0ac8f1fd-4253-4284-8ef1-807bc3111c78"
      },
      "outputs": [],
      "source": [
        "!apt-get update && apt-get -qq install xxd"
      ]
    },
    {
      "cell_type": "code",
      "execution_count": null,
      "metadata": {
        "colab": {
          "base_uri": "https://localhost:8080/"
        },
        "id": "eYQQEENdCzld",
        "outputId": "bbdd79fa-c927-41af-9b06-4ed7a9723cd8"
      },
      "outputs": [],
      "source": [
        "!xxd -i sine_model_quantized.tflite > sine_model_quantized.cc\n",
        "!cat sine_model_quantized.cc"
      ]
    },
    {
      "cell_type": "code",
      "execution_count": null,
      "metadata": {
        "colab": {
          "base_uri": "https://localhost:8080/"
        },
        "id": "_DHNcySSZVOx",
        "outputId": "f5aaf223-0ffb-4a97-bf79-1d6ecf13d0ec"
      },
      "outputs": [],
      "source": [
        "!xxd -i sine_model_quantized.tflite > sine_model_quantized.h\n",
        "!cat sine_model_quantized.h"
      ]
    },
    {
      "cell_type": "code",
      "execution_count": null,
      "metadata": {
        "colab": {
          "base_uri": "https://localhost:8080/"
        },
        "id": "3VSVAcog9zco",
        "outputId": "88be483c-238b-4233-c5d1-7d52c39dac93"
      },
      "outputs": [],
      "source": [
        "!xxd -i sine_model_quantized.tflite > sine_model_quantized.cpp\n",
        "!cat sine_model_quantized.cpp"
      ]
    }
  ],
  "metadata": {
    "colab": {
      "provenance": []
    },
    "kernelspec": {
      "display_name": "Python 3",
      "language": "python",
      "name": "python3"
    },
    "language_info": {
      "codemirror_mode": {
        "name": "ipython",
        "version": 3
      },
      "file_extension": ".py",
      "mimetype": "text/x-python",
      "name": "python",
      "nbconvert_exporter": "python",
      "pygments_lexer": "ipython3",
      "version": "3.10.9"
    },
    "vscode": {
      "interpreter": {
        "hash": "e36110c19a3d1ea2665009ee74adad0e812cc712497de144728619dc5690449d"
      }
    }
  },
  "nbformat": 4,
  "nbformat_minor": 0
}
